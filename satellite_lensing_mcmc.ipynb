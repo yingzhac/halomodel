import numpy as np
import GCRCatalogs
import pyccl as ccl
import time
import matplotlib.pyplot as plt
from scipy import special
from scipy import integrate
%matplotlib inline

gc = GCRCatalogs.load_catalog('cosmoDC2_v1.1.4_small')

cosmo = ccl.Cosmology(Omega_c=gc.cosmology.Om0-gc.cosmology.Ob0,
                      Omega_b=gc.cosmology.Ob0, h=gc.cosmology.h,
                      sigma8=gc.cosmology.sigma8,
                      n_s=gc.cosmology.n_s) 

M_bias = 1
sigma_lnM = 0.25
G = 4.79*1e-20  
h = gc.cosmology.h
H0 = h/3e3
Omega_m0 = gc.cosmology.Om0

def hubble(z):
    return ccl.h_over_h0(cosmo,1/(1+z))

def rho_cr(z):
    return ccl.background.rho_x(cosmo,1/(1+z),'critical', is_comoving=False)

def delta_c(c):
    return 200.0*c**3/( 3.0*(np.log(1+c)-c/(1.0+c)) )

def gammaa0(x):
    if x<1:
        g = 8*np.arctanh(np.sqrt((1.0-x)/(1.0+x)))/(x**2*np.sqrt(1.0-x**2))  +  4*np.log(x/2.0)/x**2  -  2.0/(x**2-1.0)  +   4*np.arctanh(np.sqrt((1.0-x)/(1.0+x)))/((x**2-1.0)*np.sqrt(1.0-x**2))######
    elif x==1:
        g = 10.0/3.0 +4*np.log(1.0/2.0)
    else:
        g = 8*np.arctan(np.sqrt((x-1.0)/(1.0+x)))/(x**2*np.sqrt(x**2-1.0))  +  4*np.log(x/2.0)/x**2  -  2.0/(x**2-1.0)  +   4*np.arctan(np.sqrt((x-1.0)/(1.0+x)))/pow(x**2-1.0,1.5)######
    return g

def Sigma_nfw0(x):
    if x<1:
        y = (  1-2*np.arctanh(np.sqrt((1.0-x)/(1.0+x)))/np.sqrt(1.0-pow(x,2))  )/(pow(x,2)-1.0)
    elif x==1:
        y = 1.0/3.0
    else:
        y = (  1-2*np.arctan(np.sqrt((x-1.0)/(1.0+x)))/np.sqrt(pow(x,2)-1.0)  )/(pow(x,2)-1.0)
    return y

def mean_Sigma_sat(R,D,M_sat):
    def integrand(R_prime):
        return R_prime*Sigma_sat(R_prime,D,M_sat)
    result = integrate.quad(integrand, 0, R)[0]
    return 2.0*result/R**2

def mean_Sigma_log(R,D,M_sat):
    def integrand(R_prime):
        return R_prime*np.array(list(map(Sigma_sat,R_prime,[D]*len(R_prime),[M_sat]*len(R_prime))))
    N = 100
    logx0 = np.logspace(-2,np.log10(R),N)
    y0 = integrand(np.sqrt(logx0[1:]*logx0[:-1]))
    result = np.sum(y0*(logx0[1:]-logx0[:-1]))
    return 2.0*result/R**2    
